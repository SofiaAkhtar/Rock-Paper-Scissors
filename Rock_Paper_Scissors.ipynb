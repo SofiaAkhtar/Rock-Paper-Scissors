{
  "nbformat": 4,
  "nbformat_minor": 0,
  "metadata": {
    "colab": {
      "provenance": []
    },
    "kernelspec": {
      "name": "python3",
      "display_name": "Python 3"
    },
    "language_info": {
      "name": "python"
    }
  },
  "cells": [
    {
      "cell_type": "code",
      "execution_count": null,
      "metadata": {
        "colab": {
          "base_uri": "https://localhost:8080/"
        },
        "id": "RUCiNxWgY48R",
        "outputId": "72dc98e6-1505-4c15-f55c-407fb6eecfbc"
      },
      "outputs": [
        {
          "output_type": "stream",
          "name": "stdout",
          "text": [
            "Welcome to Rock, Paper, Scissors!\n",
            "Enter the number of rounds you want to play: 2\n",
            "\n",
            "Round 1:\n",
            "Enter your choice (rock, paper, or scissors): paper\n",
            "You chose paper\n",
            "Computer chose paper\n",
            "It's a tie!\n",
            "\n",
            "Round 2:\n",
            "Enter your choice (rock, paper, or scissors): rock\n",
            "You chose rock\n",
            "Computer chose paper\n",
            "Computer wins!\n",
            "\n",
            "Game Over!\n",
            "Your score: -1\n",
            "Computer's score: 1\n"
          ]
        }
      ],
      "source": [
        "import random\n",
        "\n",
        "def get_user_choice():\n",
        "    user_choice = input(\"Enter your choice (rock, paper, or scissors): \").lower()\n",
        "    while user_choice not in ['rock', 'paper', 'scissors']:\n",
        "        print(\"Invalid choice. Please enter rock, paper, or scissors.\")\n",
        "        user_choice = input(\"Enter your choice (rock, paper, or scissors): \").lower()\n",
        "    return user_choice\n",
        "\n",
        "def get_computer_choice():\n",
        "    return random.choice(['rock', 'paper', 'scissors'])\n",
        "\n",
        "def determine_winner(user_choice, computer_choice):\n",
        "    if user_choice == computer_choice:\n",
        "        return \"It's a tie!\", 0, 0\n",
        "    elif (user_choice == 'rock' and computer_choice == 'scissors') or \\\n",
        "         (user_choice == 'paper' and computer_choice == 'rock') or \\\n",
        "         (user_choice == 'scissors' and computer_choice == 'paper'):\n",
        "        return \"You win!\", 1, -1\n",
        "    else:\n",
        "        return \"Computer wins!\", -1, 1\n",
        "\n",
        "def play_game():\n",
        "    print(\"Welcome to Rock, Paper, Scissors!\")\n",
        "\n",
        "    rounds = int(input(\"Enter the number of rounds you want to play: \"))\n",
        "    user_score = 0\n",
        "    computer_score = 0\n",
        "\n",
        "    for round_num in range(1, rounds + 1):\n",
        "        print(f\"\\nRound {round_num}:\")\n",
        "        user_choice = get_user_choice()\n",
        "        computer_choice = get_computer_choice()\n",
        "\n",
        "        print(f\"You chose {user_choice}\")\n",
        "        print(f\"Computer chose {computer_choice}\")\n",
        "\n",
        "        result, user_score_increment, computer_score_increment = determine_winner(user_choice, computer_choice)\n",
        "        print(result)\n",
        "\n",
        "        user_score += user_score_increment\n",
        "        computer_score += computer_score_increment\n",
        "\n",
        "    print(\"\\nGame Over!\")\n",
        "    print(f\"Your score: {user_score}\")\n",
        "    print(f\"Computer's score: {computer_score}\")\n",
        "\n",
        "if __name__ == \"__main__\":\n",
        "    play_game()\n"
      ]
    }
  ]
}